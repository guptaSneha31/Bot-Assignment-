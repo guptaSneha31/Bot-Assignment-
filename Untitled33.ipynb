{
  "nbformat": 4,
  "nbformat_minor": 0,
  "metadata": {
    "colab": {
      "name": "Untitled33.ipynb",
      "provenance": []
    },
    "kernelspec": {
      "name": "python3",
      "display_name": "Python 3"
    },
    "language_info": {
      "name": "python"
    }
  },
  "cells": [
    {
      "cell_type": "code",
      "source": [
        "#q.no 6\n",
        "dict_list=[{'name': 'affirm', 'confidence': 0.9448149204254}, {'name': 'affirm', 'confidence': 0.944814920425415}, {'name': 'inform', 'confidence': 0.9842240810394287}, {'name': 'inform', 'confidence': 0.9842240810394287}]\n",
        "res_list = [i for n, i in enumerate(dict_list) if i not in dict_list[n + 1:]]\n",
        "  \n",
        "print(res_list)  "
      ],
      "metadata": {
        "colab": {
          "base_uri": "https://localhost:8080/"
        },
        "id": "kHB1dij4I_6y",
        "outputId": "85aa1834-817e-4d6a-8338-4f33d53f6a4f"
      },
      "execution_count": null,
      "outputs": [
        {
          "output_type": "stream",
          "name": "stdout",
          "text": [
            "[{'name': 'affirm', 'confidence': 0.9448149204254}, {'name': 'affirm', 'confidence': 0.944814920425415}, {'name': 'inform', 'confidence': 0.9842240810394287}]\n"
          ]
        }
      ]
    },
    {
      "cell_type": "code",
      "source": [
        "##Q.7 \n",
        "\n",
        "def isValid(Password):\n",
        "  \n",
        "    if (len(Password) < 6 or len(Password) > 16):\n",
        "        return False\n",
        "    \n",
        "     # for special characters\n",
        "    if True:\n",
        "        count = 0\n",
        "  \n",
        "        Array = ['@', '#','!','~','$','%','^',\n",
        "                '&','*','(',',','-','+','/',\n",
        "                ':','.',',','<','>','?','|']\n",
        "  \n",
        "        for i in Password:\n",
        "            if i in Array:\n",
        "                count = 1\n",
        "                break\n",
        "        if count == 0:\n",
        "            return False\n",
        "  \n",
        "    if (True):\n",
        "        count = 0\n",
        "  \n",
        "        # check digits from 0 to 9\n",
        "        Array = ['0', '1', '2', '3', \n",
        "        '4', '5', '6', '7', '8', '9']\n",
        "  \n",
        "        for i in Password:\n",
        "            if i in Array:\n",
        "                count = 1\n",
        "                break\n",
        "  \n",
        "        if count == 0:\n",
        "            return False\n",
        "  \n",
        "     # to check space\n",
        "    if (\" \" in Password):\n",
        "        return False\n",
        "   \n",
        "  \n",
        "    if True:\n",
        "        count = 0\n",
        "  \n",
        "        # checking capital letters\n",
        "        for i in range(65, 91):\n",
        "  \n",
        "            if chr(i) in Password:\n",
        "                count = 1\n",
        "  \n",
        "        if (count == 0):\n",
        "            return False\n",
        "  \n",
        "    if (True):\n",
        "        count = 0\n",
        "  \n",
        "        # checking small letters\n",
        "        for i in range(90, 123):\n",
        "  \n",
        "            if chr(i) in Password:\n",
        "                count = 1\n",
        "  \n",
        "        if (count == 0):\n",
        "            return False\n",
        "  \n",
        "    # if all conditions fails\n",
        "    return True\n",
        "  \n",
        "# Driver code\n",
        "Password=input(\"Enter string: \")\n",
        "  \n",
        "if (isValid([j for j in Password])):\n",
        "    print(\"Password is valid\")\n",
        "else:\n",
        "    print(\"Password is not valid\") "
      ],
      "metadata": {
        "id": "EIEC2oBwHRkm",
        "colab": {
          "base_uri": "https://localhost:8080/"
        },
        "outputId": "a62b2234-6552-4b4e-e64c-ee5e583e39a7"
      },
      "execution_count": null,
      "outputs": [
        {
          "output_type": "stream",
          "name": "stdout",
          "text": [
            "Enter string: Geeksfor123@\n",
            "Password is valid\n"
          ]
        }
      ]
    },
    {
      "cell_type": "code",
      "execution_count": null,
      "metadata": {
        "colab": {
          "base_uri": "https://localhost:8080/"
        },
        "id": "I89gV6Cj-kx1",
        "outputId": "80568441-c63d-4502-de0f-cb24d20c3142"
      },
      "outputs": [
        {
          "output_type": "stream",
          "name": "stdout",
          "text": [
            "Output= {'a': (300,), 'b': (200,), 'd': (400,), 'c': 300}\n"
          ]
        }
      ],
      "source": [
        "#Q.8\n",
        "\n",
        "d1 = {'a': 100, 'b': 200, 'c':300}\n",
        "d2 = {'a': 300, 'b': 200, 'd':400}\n",
        "d3 = {}\n",
        "for i in d1:\n",
        "  for j in d2:\n",
        "    if i==j:\n",
        "      d3[i]=d2[j]+d1[i]\n",
        "    else:\n",
        "       d3[j]=d2[j],\n",
        "       d3[i]=d1[i]\n",
        " \n",
        "print(\"Output=\",d3)\n",
        "\n"
      ]
    },
    {
      "cell_type": "code",
      "source": [
        ""
      ],
      "metadata": {
        "id": "YcmSfadKHPWl"
      },
      "execution_count": null,
      "outputs": []
    }
  ]
}